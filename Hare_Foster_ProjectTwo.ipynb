{
 "cells": [
  {
   "cell_type": "markdown",
   "metadata": {},
   "source": [
    "# Treasure Hunt Game Notebook\n",
    "\n",
    "## Read and Review Your Starter Code\n",
    "The theme of this project is a popular treasure hunt game in which the player needs to find the treasure before the pirate does. While you will not be developing the entire game, you will write the part of the game that represents the intelligent agent, which is a pirate in this case. The pirate will try to find the optimal path to the treasure using deep Q-learning. \n",
    "\n",
    "You have been provided with two Python classes and this notebook to help you with this assignment. The first class, TreasureMaze.py, represents the environment, which includes a maze object defined as a matrix. The second class, GameExperience.py, stores the episodes – that is, all the states that come in between the initial state and the terminal state. This is later used by the agent for learning by experience, called \"exploration\". This notebook shows how to play a game. Your task is to complete the deep Q-learning implementation for which a skeleton implementation has been provided. The code blocks you will need to complete has #TODO as a header.\n",
    "\n",
    "First, read and review the next few code and instruction blocks to understand the code that you have been given."
   ]
  },
  {
   "cell_type": "code",
   "execution_count": 1,
   "metadata": {},
   "outputs": [
    {
     "name": "stderr",
     "output_type": "stream",
     "text": [
      "Using TensorFlow backend.\n"
     ]
    }
   ],
   "source": [
    "from __future__ import print_function\n",
    "import os, sys, time, datetime, json, random\n",
    "import numpy as np\n",
    "from keras.models import Sequential\n",
    "from keras.layers.core import Dense, Activation\n",
    "from keras.optimizers import SGD , Adam, RMSprop\n",
    "from keras.layers.advanced_activations import PReLU\n",
    "import matplotlib.pyplot as plt\n",
    "from TreasureMaze import TreasureMaze\n",
    "from GameExperience import GameExperience\n",
    "%matplotlib inline"
   ]
  },
  {
   "cell_type": "markdown",
   "metadata": {},
   "source": [
    "The following code block contains an 8x8 matrix that will be used as a maze object:"
   ]
  },
  {
   "cell_type": "code",
   "execution_count": 2,
   "metadata": {},
   "outputs": [],
   "source": [
    "maze = np.array([\n",
    "    [ 1.,  0.,  1.,  1.,  1.,  1.,  1.,  1.],\n",
    "    [ 1.,  0.,  1.,  1.,  1.,  0.,  1.,  1.],\n",
    "    [ 1.,  1.,  1.,  1.,  0.,  1.,  0.,  1.],\n",
    "    [ 1.,  1.,  1.,  0.,  1.,  1.,  1.,  1.],\n",
    "    [ 1.,  1.,  0.,  1.,  1.,  1.,  1.,  1.],\n",
    "    [ 1.,  1.,  1.,  0.,  1.,  0.,  0.,  0.],\n",
    "    [ 1.,  1.,  1.,  0.,  1.,  1.,  1.,  1.],\n",
    "    [ 1.,  1.,  1.,  1.,  0.,  1.,  1.,  1.]\n",
    "])"
   ]
  },
  {
   "cell_type": "markdown",
   "metadata": {},
   "source": [
    "This helper function allows a visual representation of the maze object:"
   ]
  },
  {
   "cell_type": "code",
   "execution_count": 3,
   "metadata": {},
   "outputs": [],
   "source": [
    "def show(qmaze):\n",
    "    plt.grid('on')\n",
    "    nrows, ncols = qmaze.maze.shape\n",
    "    ax = plt.gca()\n",
    "    ax.set_xticks(np.arange(0.5, nrows, 1))\n",
    "    ax.set_yticks(np.arange(0.5, ncols, 1))\n",
    "    ax.set_xticklabels([])\n",
    "    ax.set_yticklabels([])\n",
    "    canvas = np.copy(qmaze.maze)\n",
    "    for row,col in qmaze.visited:\n",
    "        canvas[row,col] = 0.6\n",
    "    pirate_row, pirate_col, _ = qmaze.state\n",
    "    canvas[pirate_row, pirate_col] = 0.3   # pirate cell\n",
    "    canvas[nrows-1, ncols-1] = 0.9 # treasure cell\n",
    "    img = plt.imshow(canvas, interpolation='none', cmap='gray')\n",
    "    return img"
   ]
  },
  {
   "cell_type": "markdown",
   "metadata": {},
   "source": [
    "The pirate agent can move in four directions: left, right, up, and down. \n",
    "\n",
    "While the agent primarily learns by experience through exploitation, often, the agent can choose to explore the environment to find previously undiscovered paths. This is called \"exploration\" and is defined by epsilon. This value is typically a lower value such as 0.1, which means for every ten attempts, the agent will attempt to learn by experience nine times and will randomly explore a new path one time. You are encouraged to try various values for the exploration factor and see how the algorithm performs."
   ]
  },
  {
   "cell_type": "code",
   "execution_count": 4,
   "metadata": {},
   "outputs": [],
   "source": [
    "LEFT = 0\n",
    "UP = 1\n",
    "RIGHT = 2\n",
    "DOWN = 3\n",
    "\n",
    "\n",
    "# Exploration factor\n",
    "epsilon = 0.1\n",
    "\n",
    "# Actions dictionary\n",
    "actions_dict = {\n",
    "    LEFT: 'left',\n",
    "    UP: 'up',\n",
    "    RIGHT: 'right',\n",
    "    DOWN: 'down',\n",
    "}\n",
    "\n",
    "num_actions = len(actions_dict)\n"
   ]
  },
  {
   "cell_type": "markdown",
   "metadata": {},
   "source": [
    "The sample code block and output below show creating a maze object and performing one action (DOWN), which returns the reward. The resulting updated environment is visualized."
   ]
  },
  {
   "cell_type": "code",
   "execution_count": 5,
   "metadata": {},
   "outputs": [
    {
     "name": "stdout",
     "output_type": "stream",
     "text": [
      "reward= -0.04\n"
     ]
    },
    {
     "data": {
      "text/plain": [
       "<matplotlib.image.AxesImage at 0x19059542b88>"
      ]
     },
     "execution_count": 5,
     "metadata": {},
     "output_type": "execute_result"
    },
    {
     "data": {
      "image/png": "[encoded data removed]",
      "text/plain": [
       "<Figure size 432x288 with 1 Axes>"
      ]
     },
     "metadata": {
      "needs_background": "light"
     },
     "output_type": "display_data"
    }
   ],
   "source": [
    "qmaze = TreasureMaze(maze)\n",
    "canvas, reward, game_over = qmaze.act(DOWN)\n",
    "print(\"reward=\", reward)\n",
    "show(qmaze)"
   ]
  },
  {
   "cell_type": "markdown",
   "metadata": {},
   "source": [
    "This function simulates a full game based on the provided trained model. The other parameters include the TreasureMaze object and the starting position of the pirate."
   ]
  },
  {
   "cell_type": "code",
   "execution_count": 6,
   "metadata": {},
   "outputs": [],
   "source": [
    "def play_game(model, qmaze, pirate_cell):\n",
    "    qmaze.reset(pirate_cell)\n",
    "    envstate = qmaze.observe()\n",
    "    while True:\n",
    "        prev_envstate = envstate\n",
    "        # get next action\n",
    "        q = model.predict(prev_envstate)\n",
    "        action = np.argmax(q[0])\n",
    "\n",
    "        # apply action, get rewards and new state\n",
    "        envstate, reward, game_status = qmaze.act(action)\n",
    "        if game_status == 'win':\n",
    "            return True\n",
    "        elif game_status == 'lose':\n",
    "            return False"
   ]
  },
  {
   "cell_type": "markdown",
   "metadata": {},
   "source": [
    "This function helps you to determine whether the pirate can win any game at all. If your maze is not well designed, the pirate may not win any game at all. In this case, your training would not yield any result. The provided maze in this notebook ensures that there is a path to win and you can run this method to check."
   ]
  },
  {
   "cell_type": "code",
   "execution_count": 7,
   "metadata": {},
   "outputs": [],
   "source": [
    "def completion_check(model, qmaze):\n",
    "    for cell in qmaze.free_cells:\n",
    "        if not qmaze.valid_actions(cell):\n",
    "            return False\n",
    "        if not play_game(model, qmaze, cell):\n",
    "            return False\n",
    "    return True"
   ]
  },
  {
   "cell_type": "markdown",
   "metadata": {},
   "source": [
    "The code you have been given in this block will build the neural network model. Review the code and note the number of layers, as well as the activation, optimizer, and loss functions that are used to train the model."
   ]
  },
  {
   "cell_type": "code",
   "execution_count": 8,
   "metadata": {},
   "outputs": [],
   "source": [
    "def build_model(maze):\n",
    "    model = Sequential()\n",
    "    model.add(Dense(maze.size, input_shape=(maze.size,)))\n",
    "    model.add(PReLU())\n",
    "    model.add(Dense(maze.size))\n",
    "    model.add(PReLU())\n",
    "    model.add(Dense(num_actions))\n",
    "    model.compile(optimizer='adam', loss='mse')\n",
    "    return model"
   ]
  },
  {
   "cell_type": "markdown",
   "metadata": {},
   "source": [
    "# #TODO: Complete the Q-Training Algorithm Code Block\n",
    "\n",
    "This is your deep Q-learning implementation. The goal of your deep Q-learning implementation is to find the best possible navigation sequence that results in reaching the treasure cell while maximizing the reward. In your implementation, you need to determine the optimal number of epochs to achieve a 100% win rate.\n",
    "\n",
    "You will need to complete the section starting with #pseudocode. The pseudocode has been included for you."
   ]
  },
  {
   "cell_type": "code",
   "execution_count": 9,
   "metadata": {},
   "outputs": [],
   "source": [
    "def qtrain(model, maze, **opt):\n",
    "\n",
    "    # exploration factor\n",
    "    global epsilon \n",
    "\n",
    "    # number of epochs\n",
    "    n_epoch = opt.get('n_epoch', 15000)\n",
    "\n",
    "    # maximum memory to store episodes\n",
    "    max_memory = opt.get('max_memory', 1000)\n",
    "\n",
    "    # maximum data size for training\n",
    "    data_size = opt.get('data_size', 50)\n",
    "\n",
    "    # start time\n",
    "    start_time = datetime.datetime.now()\n",
    "\n",
    "    # Construct environment/game from numpy array: maze (see above)\n",
    "    qmaze = TreasureMaze(maze)\n",
    "\n",
    "    # Initialize experience replay object\n",
    "    experience = GameExperience(model, max_memory=max_memory)\n",
    "    \n",
    "    win_history = []   # history of win/lose game\n",
    "    hsize = qmaze.maze.size//2   # history window size\n",
    "    win_rate = 0.0\n",
    "    \n",
    "    # Training loop\n",
    "    for epoch in range(n_epoch):\n",
    "        loss = 0.0\n",
    "        n_episodes = 0\n",
    "        \n",
    "        # Start game at given position\n",
    "        agent_cell = (0, 0)\n",
    "        qmaze.reset(agent_cell)\n",
    "        \n",
    "        # Observe initial state\n",
    "        envstate = qmaze.observe()\n",
    "        \n",
    "        # Initialize game_status\n",
    "        game_status = qmaze.game_status()\n",
    "        \n",
    "        # Loop until game is over\n",
    "        while qmaze.game_status() == 'not_over':\n",
    "            n_episodes += 1\n",
    "            \n",
    "            # Save current state\n",
    "            prev_envstate = envstate\n",
    "            \n",
    "            # Choose action\n",
    "            if np.random.rand() <epsilon:\n",
    "                action = random.randint(0, 3) # Explore (random action)\n",
    "            else:\n",
    "                q_values = model.predict(prev_envstate.reshape(1, -1))\n",
    "                action = np.argmax(q_values[0])\n",
    "                \n",
    "            # Perform action\n",
    "            envstate, reward, game_status = qmaze.act(action)\n",
    "            \n",
    "            # Store experience\n",
    "            episode = [prev_envstate, action, reward, envstate, game_status]\n",
    "            experience.remember(episode)\n",
    "            \n",
    "            # Train on batch from experience replay\n",
    "            inputs, targets = experience.get_data(data_size=data_size)\n",
    "            history = model.fit(inputs, targets, epochs=1, verbose=0)\n",
    "            loss += history.history['loss'][0]\n",
    "            \n",
    "        # Record win/lose results\n",
    "        win = 1 if game_status.lower() == 'win' else 0\n",
    "        win_history.append(win)\n",
    "        win_history = win_history[-hsize:]\n",
    "        win_rate = sum(win_history) / len(win_history)\n",
    "\n",
    "        #Print the epoch, loss, episodes, win count, and win rate for each epoch\n",
    "        dt = datetime.datetime.now() - start_time\n",
    "        t = format_time(dt.total_seconds())\n",
    "        template = \"Epoch: {:03d}/{:d} | Loss: {:.4f} | Episodes: {:d} | Win count: {:d} | Win rate: {:.3f} | time: {}\"\n",
    "        print(template.format(epoch, n_epoch-1, loss, n_episodes, sum(win_history), win_rate, t))\n",
    "        # We simply check if training has exhausted all free cells and if in all\n",
    "        # cases the agent won.\n",
    "        if win_rate > 0.9 : epsilon = 0.05\n",
    "        if sum(win_history[-hsize:]) == hsize and completion_check(model, qmaze):\n",
    "            print(\"Reached 100%% win rate at epoch: %d\" % (epoch,))\n",
    "            break\n",
    "    \n",
    "    \n",
    "    # Determine the total time for training\n",
    "    dt = datetime.datetime.now() - start_time\n",
    "    seconds = dt.total_seconds()\n",
    "    t = format_time(seconds)\n",
    "\n",
    "    print(\"n_epoch: %d, max_mem: %d, data: %d, time: %s\" % (epoch, max_memory, data_size, t))\n",
    "    return seconds\n",
    "\n",
    "# This is a small utility for printing readable time strings:\n",
    "def format_time(seconds):\n",
    "    if seconds < 400:\n",
    "        s = float(seconds)\n",
    "        return \"%.1f seconds\" % (s,)\n",
    "    elif seconds < 4000:\n",
    "        m = seconds / 60.0\n",
    "        return \"%.2f minutes\" % (m,)\n",
    "    else:\n",
    "        h = seconds / 3600.0\n",
    "        return \"%.2f hours\" % (h,)"
   ]
  },
  {
   "cell_type": "markdown",
   "metadata": {},
   "source": [
    "## Test Your Model\n",
    "\n",
    "Now we will start testing the deep Q-learning implementation. To begin, select **Cell**, then **Run All** from the menu bar. This will run your notebook. As it runs, you should see output begin to appear beneath the next few cells. The code below creates an instance of TreasureMaze."
   ]
  },
  {
   "cell_type": "code",
   "execution_count": 10,
   "metadata": {},
   "outputs": [
    {
     "data": {
      "text/plain": [
       "<matplotlib.image.AxesImage at 0x190596037c8>"
      ]
     },
     "execution_count": 10,
     "metadata": {},
     "output_type": "execute_result"
    },
    {
     "data": {
      "image/png": "[encoded data removed]",
      "text/plain": [
       "<Figure size 432x288 with 1 Axes>"
      ]
     },
     "metadata": {
      "needs_background": "light"
     },
     "output_type": "display_data"
    }
   ],
   "source": [
    "qmaze = TreasureMaze(maze)\n",
    "show(qmaze)"
   ]
  },
  {
   "cell_type": "markdown",
   "metadata": {},
   "source": [
    "In the next code block, you will build your model and train it using deep Q-learning. Note: This step takes several minutes to fully run."
   ]
  },
  {
   "cell_type": "code",
   "execution_count": 11,
   "metadata": {},
   "outputs": [
    {
     "name": "stdout",
     "output_type": "stream",
     "text": [
      "Epoch: 000/99 | Loss: 1.2792 | Episodes: 139 | Win count: 0 | Win rate: 0.000 | time: 12.0 seconds\n",
      "Epoch: 001/99 | Loss: 0.2057 | Episodes: 145 | Win count: 0 | Win rate: 0.000 | time: 23.8 seconds\n",
      "Epoch: 002/99 | Loss: 0.1681 | Episodes: 137 | Win count: 0 | Win rate: 0.000 | time: 34.5 seconds\n",
      "Epoch: 003/99 | Loss: 0.1601 | Episodes: 144 | Win count: 0 | Win rate: 0.000 | time: 46.9 seconds\n",
      "Epoch: 004/99 | Loss: 0.1496 | Episodes: 139 | Win count: 0 | Win rate: 0.000 | time: 57.1 seconds\n",
      "Epoch: 005/99 | Loss: 0.1170 | Episodes: 143 | Win count: 0 | Win rate: 0.000 | time: 67.2 seconds\n",
      "Epoch: 006/99 | Loss: 0.1165 | Episodes: 142 | Win count: 0 | Win rate: 0.000 | time: 78.2 seconds\n",
      "Epoch: 007/99 | Loss: 0.1174 | Episodes: 143 | Win count: 0 | Win rate: 0.000 | time: 88.9 seconds\n",
      "Epoch: 008/99 | Loss: 0.1360 | Episodes: 147 | Win count: 0 | Win rate: 0.000 | time: 99.4 seconds\n",
      "Epoch: 009/99 | Loss: 0.1315 | Episodes: 147 | Win count: 0 | Win rate: 0.000 | time: 110.8 seconds\n",
      "Epoch: 010/99 | Loss: 0.1406 | Episodes: 147 | Win count: 0 | Win rate: 0.000 | time: 121.6 seconds\n",
      "Epoch: 011/99 | Loss: 0.1487 | Episodes: 149 | Win count: 0 | Win rate: 0.000 | time: 132.6 seconds\n",
      "Epoch: 012/99 | Loss: 0.1507 | Episodes: 151 | Win count: 0 | Win rate: 0.000 | time: 143.3 seconds\n",
      "Epoch: 013/99 | Loss: 0.1929 | Episodes: 153 | Win count: 0 | Win rate: 0.000 | time: 154.2 seconds\n",
      "Epoch: 014/99 | Loss: 0.0434 | Episodes: 36 | Win count: 1 | Win rate: 0.067 | time: 157.0 seconds\n",
      "Epoch: 015/99 | Loss: 0.1396 | Episodes: 59 | Win count: 2 | Win rate: 0.125 | time: 161.4 seconds\n",
      "Epoch: 016/99 | Loss: 0.1159 | Episodes: 44 | Win count: 3 | Win rate: 0.176 | time: 164.7 seconds\n",
      "Epoch: 017/99 | Loss: 0.2925 | Episodes: 74 | Win count: 4 | Win rate: 0.222 | time: 170.3 seconds\n",
      "Epoch: 018/99 | Loss: 0.7241 | Episodes: 140 | Win count: 4 | Win rate: 0.211 | time: 180.4 seconds\n",
      "Epoch: 019/99 | Loss: 0.5736 | Episodes: 139 | Win count: 4 | Win rate: 0.200 | time: 190.5 seconds\n",
      "Epoch: 020/99 | Loss: 0.4076 | Episodes: 140 | Win count: 4 | Win rate: 0.190 | time: 200.3 seconds\n",
      "Epoch: 021/99 | Loss: 0.1782 | Episodes: 142 | Win count: 4 | Win rate: 0.182 | time: 210.6 seconds\n",
      "Epoch: 022/99 | Loss: 0.0955 | Episodes: 138 | Win count: 4 | Win rate: 0.174 | time: 220.6 seconds\n",
      "Epoch: 023/99 | Loss: 0.1012 | Episodes: 140 | Win count: 4 | Win rate: 0.167 | time: 230.4 seconds\n",
      "Epoch: 024/99 | Loss: 0.0826 | Episodes: 140 | Win count: 4 | Win rate: 0.160 | time: 240.3 seconds\n",
      "Epoch: 025/99 | Loss: 0.0934 | Episodes: 140 | Win count: 4 | Win rate: 0.154 | time: 250.3 seconds\n",
      "Epoch: 026/99 | Loss: 0.0934 | Episodes: 140 | Win count: 4 | Win rate: 0.148 | time: 260.5 seconds\n",
      "Epoch: 027/99 | Loss: 0.0886 | Episodes: 140 | Win count: 4 | Win rate: 0.143 | time: 270.6 seconds\n",
      "Epoch: 028/99 | Loss: 0.1087 | Episodes: 141 | Win count: 4 | Win rate: 0.138 | time: 282.9 seconds\n",
      "Epoch: 029/99 | Loss: 0.0987 | Episodes: 141 | Win count: 4 | Win rate: 0.133 | time: 294.8 seconds\n",
      "Epoch: 030/99 | Loss: 0.1141 | Episodes: 142 | Win count: 4 | Win rate: 0.129 | time: 305.3 seconds\n",
      "Epoch: 031/99 | Loss: 0.1209 | Episodes: 143 | Win count: 4 | Win rate: 0.125 | time: 316.7 seconds\n",
      "Epoch: 032/99 | Loss: 0.1497 | Episodes: 142 | Win count: 4 | Win rate: 0.125 | time: 326.9 seconds\n",
      "Epoch: 033/99 | Loss: 0.1473 | Episodes: 150 | Win count: 5 | Win rate: 0.156 | time: 337.2 seconds\n",
      "Epoch: 034/99 | Loss: 0.2256 | Episodes: 137 | Win count: 5 | Win rate: 0.156 | time: 346.9 seconds\n",
      "Epoch: 035/99 | Loss: 0.1938 | Episodes: 137 | Win count: 5 | Win rate: 0.156 | time: 357.1 seconds\n",
      "Epoch: 036/99 | Loss: 0.2435 | Episodes: 141 | Win count: 5 | Win rate: 0.156 | time: 367.2 seconds\n",
      "Epoch: 037/99 | Loss: 0.1421 | Episodes: 140 | Win count: 5 | Win rate: 0.156 | time: 377.5 seconds\n",
      "Epoch: 038/99 | Loss: 0.0767 | Episodes: 144 | Win count: 5 | Win rate: 0.156 | time: 388.3 seconds\n",
      "Epoch: 039/99 | Loss: 0.1188 | Episodes: 146 | Win count: 5 | Win rate: 0.156 | time: 399.2 seconds\n",
      "Epoch: 040/99 | Loss: 0.1275 | Episodes: 144 | Win count: 5 | Win rate: 0.156 | time: 6.84 minutes\n",
      "Epoch: 041/99 | Loss: 0.1489 | Episodes: 133 | Win count: 6 | Win rate: 0.188 | time: 7.00 minutes\n",
      "Epoch: 042/99 | Loss: 0.2996 | Episodes: 160 | Win count: 6 | Win rate: 0.188 | time: 7.20 minutes\n",
      "Epoch: 043/99 | Loss: 0.0928 | Episodes: 54 | Win count: 7 | Win rate: 0.219 | time: 7.26 minutes\n",
      "Epoch: 044/99 | Loss: 0.2161 | Episodes: 107 | Win count: 8 | Win rate: 0.250 | time: 7.40 minutes\n",
      "Epoch: 045/99 | Loss: 0.4244 | Episodes: 157 | Win count: 9 | Win rate: 0.281 | time: 7.59 minutes\n",
      "Epoch: 046/99 | Loss: 0.3133 | Episodes: 99 | Win count: 9 | Win rate: 0.281 | time: 7.71 minutes\n",
      "Epoch: 047/99 | Loss: 0.1760 | Episodes: 62 | Win count: 9 | Win rate: 0.281 | time: 7.78 minutes\n",
      "Epoch: 048/99 | Loss: 0.2305 | Episodes: 63 | Win count: 9 | Win rate: 0.281 | time: 7.86 minutes\n",
      "Epoch: 049/99 | Loss: 0.1908 | Episodes: 58 | Win count: 9 | Win rate: 0.281 | time: 7.93 minutes\n",
      "Epoch: 050/99 | Loss: 0.1981 | Episodes: 61 | Win count: 10 | Win rate: 0.312 | time: 8.00 minutes\n",
      "Epoch: 051/99 | Loss: 0.1385 | Episodes: 50 | Win count: 11 | Win rate: 0.344 | time: 8.06 minutes\n",
      "Epoch: 052/99 | Loss: 0.2801 | Episodes: 139 | Win count: 12 | Win rate: 0.375 | time: 8.24 minutes\n",
      "Epoch: 053/99 | Loss: 0.0676 | Episodes: 33 | Win count: 13 | Win rate: 0.406 | time: 8.29 minutes\n",
      "Epoch: 054/99 | Loss: 0.0535 | Episodes: 31 | Win count: 14 | Win rate: 0.438 | time: 8.33 minutes\n",
      "Epoch: 055/99 | Loss: 0.3634 | Episodes: 141 | Win count: 14 | Win rate: 0.438 | time: 8.60 minutes\n",
      "Epoch: 056/99 | Loss: 0.0709 | Episodes: 34 | Win count: 15 | Win rate: 0.469 | time: 8.65 minutes\n",
      "Epoch: 057/99 | Loss: 0.0817 | Episodes: 28 | Win count: 16 | Win rate: 0.500 | time: 8.70 minutes\n",
      "Epoch: 058/99 | Loss: 0.0563 | Episodes: 30 | Win count: 17 | Win rate: 0.531 | time: 8.75 minutes\n",
      "Epoch: 059/99 | Loss: 0.0596 | Episodes: 31 | Win count: 18 | Win rate: 0.562 | time: 8.80 minutes\n",
      "Epoch: 060/99 | Loss: 0.0587 | Episodes: 30 | Win count: 19 | Win rate: 0.594 | time: 8.85 minutes\n",
      "Epoch: 061/99 | Loss: 0.0697 | Episodes: 38 | Win count: 20 | Win rate: 0.625 | time: 8.92 minutes\n",
      "Epoch: 062/99 | Loss: 0.0587 | Episodes: 29 | Win count: 21 | Win rate: 0.656 | time: 8.99 minutes\n",
      "Epoch: 063/99 | Loss: 0.0645 | Episodes: 32 | Win count: 22 | Win rate: 0.688 | time: 9.04 minutes\n",
      "Epoch: 064/99 | Loss: 0.0511 | Episodes: 26 | Win count: 23 | Win rate: 0.719 | time: 9.09 minutes\n",
      "Epoch: 065/99 | Loss: 0.1219 | Episodes: 40 | Win count: 23 | Win rate: 0.719 | time: 9.17 minutes\n",
      "Epoch: 066/99 | Loss: 0.0426 | Episodes: 26 | Win count: 24 | Win rate: 0.750 | time: 9.20 minutes\n",
      "Epoch: 067/99 | Loss: 0.0540 | Episodes: 28 | Win count: 25 | Win rate: 0.781 | time: 9.25 minutes\n",
      "Epoch: 068/99 | Loss: 0.0429 | Episodes: 34 | Win count: 26 | Win rate: 0.812 | time: 9.30 minutes\n",
      "Epoch: 069/99 | Loss: 0.0440 | Episodes: 29 | Win count: 27 | Win rate: 0.844 | time: 9.33 minutes\n",
      "Epoch: 070/99 | Loss: 0.0576 | Episodes: 38 | Win count: 28 | Win rate: 0.875 | time: 9.38 minutes\n",
      "Epoch: 071/99 | Loss: 0.0368 | Episodes: 29 | Win count: 29 | Win rate: 0.906 | time: 9.42 minutes\n",
      "Epoch: 072/99 | Loss: 0.0331 | Episodes: 27 | Win count: 30 | Win rate: 0.938 | time: 9.46 minutes\n",
      "Epoch: 073/99 | Loss: 0.0314 | Episodes: 27 | Win count: 30 | Win rate: 0.938 | time: 9.50 minutes\n",
      "Epoch: 074/99 | Loss: 0.0777 | Episodes: 54 | Win count: 31 | Win rate: 0.969 | time: 9.57 minutes\n",
      "Epoch: 075/99 | Loss: 0.0377 | Episodes: 26 | Win count: 31 | Win rate: 0.969 | time: 9.62 minutes\n",
      "Epoch: 076/99 | Loss: 0.0764 | Episodes: 66 | Win count: 31 | Win rate: 0.969 | time: 9.71 minutes\n",
      "Epoch: 077/99 | Loss: 0.0228 | Episodes: 29 | Win count: 31 | Win rate: 0.969 | time: 9.75 minutes\n",
      "Epoch: 078/99 | Loss: 0.0251 | Episodes: 28 | Win count: 31 | Win rate: 0.969 | time: 9.79 minutes\n",
      "Epoch: 079/99 | Loss: 0.0285 | Episodes: 32 | Win count: 31 | Win rate: 0.969 | time: 9.84 minutes\n",
      "Epoch: 080/99 | Loss: 0.0446 | Episodes: 47 | Win count: 31 | Win rate: 0.969 | time: 9.90 minutes\n",
      "Epoch: 081/99 | Loss: 0.0203 | Episodes: 30 | Win count: 31 | Win rate: 0.969 | time: 9.95 minutes\n",
      "Epoch: 082/99 | Loss: 0.0184 | Episodes: 25 | Win count: 31 | Win rate: 0.969 | time: 9.99 minutes\n"
     ]
    },
    {
     "name": "stdout",
     "output_type": "stream",
     "text": [
      "Epoch: 083/99 | Loss: 0.0157 | Episodes: 25 | Win count: 31 | Win rate: 0.969 | time: 10.03 minutes\n",
      "Epoch: 084/99 | Loss: 0.0202 | Episodes: 27 | Win count: 31 | Win rate: 0.969 | time: 10.07 minutes\n",
      "Epoch: 085/99 | Loss: 0.0173 | Episodes: 28 | Win count: 31 | Win rate: 0.969 | time: 10.10 minutes\n",
      "Epoch: 086/99 | Loss: 0.0152 | Episodes: 24 | Win count: 31 | Win rate: 0.969 | time: 10.14 minutes\n",
      "Epoch: 087/99 | Loss: 0.0180 | Episodes: 28 | Win count: 32 | Win rate: 1.000 | time: 10.18 minutes\n",
      "Epoch: 088/99 | Loss: 0.0172 | Episodes: 26 | Win count: 32 | Win rate: 1.000 | time: 10.21 minutes\n",
      "Epoch: 089/99 | Loss: 0.0137 | Episodes: 28 | Win count: 32 | Win rate: 1.000 | time: 10.26 minutes\n",
      "Epoch: 090/99 | Loss: 0.0116 | Episodes: 24 | Win count: 32 | Win rate: 1.000 | time: 10.31 minutes\n",
      "Epoch: 091/99 | Loss: 0.0212 | Episodes: 26 | Win count: 32 | Win rate: 1.000 | time: 10.37 minutes\n",
      "Epoch: 092/99 | Loss: 0.0207 | Episodes: 32 | Win count: 32 | Win rate: 1.000 | time: 10.43 minutes\n",
      "Epoch: 093/99 | Loss: 0.0333 | Episodes: 57 | Win count: 32 | Win rate: 1.000 | time: 10.51 minutes\n",
      "Epoch: 094/99 | Loss: 0.0229 | Episodes: 32 | Win count: 32 | Win rate: 1.000 | time: 10.56 minutes\n",
      "Epoch: 095/99 | Loss: 0.0159 | Episodes: 24 | Win count: 32 | Win rate: 1.000 | time: 10.60 minutes\n",
      "Epoch: 096/99 | Loss: 0.0185 | Episodes: 36 | Win count: 32 | Win rate: 1.000 | time: 10.66 minutes\n",
      "Epoch: 097/99 | Loss: 0.0083 | Episodes: 24 | Win count: 32 | Win rate: 1.000 | time: 10.70 minutes\n",
      "Epoch: 098/99 | Loss: 0.0078 | Episodes: 26 | Win count: 32 | Win rate: 1.000 | time: 10.74 minutes\n",
      "Epoch: 099/99 | Loss: 0.0094 | Episodes: 24 | Win count: 32 | Win rate: 1.000 | time: 10.77 minutes\n",
      "n_epoch: 99, max_mem: 512, data: 32, time: 10.78 minutes\n"
     ]
    },
    {
     "data": {
      "text/plain": [
       "646.615437"
      ]
     },
     "execution_count": 11,
     "metadata": {},
     "output_type": "execute_result"
    }
   ],
   "source": [
    "model = build_model(maze)\n",
    "qtrain(model, maze, n_epoch=100, max_memory=8*maze.size, data_size=32)"
   ]
  },
  {
   "cell_type": "markdown",
   "metadata": {},
   "source": [
    "This cell will check to see if the model passes the completion check. Note: This could take several minutes."
   ]
  },
  {
   "cell_type": "code",
   "execution_count": 12,
   "metadata": {},
   "outputs": [
    {
     "data": {
      "text/plain": [
       "<matplotlib.image.AxesImage at 0x19060d34888>"
      ]
     },
     "execution_count": 12,
     "metadata": {},
     "output_type": "execute_result"
    },
    {
     "data": {
      "image/png": "[encoded data removed]",
      "text/plain": [
       "<Figure size 432x288 with 1 Axes>"
      ]
     },
     "metadata": {
      "needs_background": "light"
     },
     "output_type": "display_data"
    }
   ],
   "source": [
    "completion_check(model, qmaze)\n",
    "show(qmaze)"
   ]
  },
  {
   "cell_type": "markdown",
   "metadata": {},
   "source": [
    "This cell will test your model for one game. It will start the pirate at the top-left corner and run play_game. The agent should find a path from the starting position to the target (treasure). The treasure is located in the bottom-right corner."
   ]
  },
  {
   "cell_type": "code",
   "execution_count": 13,
   "metadata": {},
   "outputs": [
    {
     "data": {
      "text/plain": [
       "<matplotlib.image.AxesImage at 0x19060e987c8>"
      ]
     },
     "execution_count": 13,
     "metadata": {},
     "output_type": "execute_result"
    },
    {
     "data": {
      "image/png": "[encoded data removed]",
      "text/plain": [
       "<Figure size 432x288 with 1 Axes>"
      ]
     },
     "metadata": {
      "needs_background": "light"
     },
     "output_type": "display_data"
    }
   ],
   "source": [
    "pirate_start = (0, 0)\n",
    "play_game(model, qmaze, pirate_start)\n",
    "show(qmaze)"
   ]
  },
  {
   "cell_type": "markdown",
   "metadata": {},
   "source": [
    "## Save and Submit Your Work\n",
    "After you have finished creating the code for your notebook, save your work. Make sure that your notebook contains your name in the filename (e.g. Doe_Jane_ProjectTwo.ipynb). This will help your instructor access and grade your work easily. Download a copy of your IPYNB file and submit it to Brightspace. Refer to the Jupyter Notebook in Apporto Tutorial if you need help with these tasks."
   ]
  }
 ],
 "metadata": {
  "kernelspec": {
   "display_name": "Python 3",
   "language": "python",
   "name": "python3"
  },
  "language_info": {
   "codemirror_mode": {
    "name": "ipython",
    "version": 3
   },
   "file_extension": ".py",
   "mimetype": "text/x-python",
   "name": "python",
   "nbconvert_exporter": "python",
   "pygments_lexer": "ipython3",
   "version": "3.7.4"
  }
 },
 "nbformat": 4,
 "nbformat_minor": 2
}
